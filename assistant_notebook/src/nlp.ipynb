{
 "cells": [
  {
   "cell_type": "markdown",
   "id": "91cc981f",
   "metadata": {},
   "source": [
    "# Natural Language Processing for Query Classification\n",
    "\n",
    "This notebook uses zero-shot classification to determine the category of user queries."
   ]
  },
  {
   "cell_type": "code",
   "execution_count": 4,
   "id": "8a44de33",
   "metadata": {},
   "outputs": [
    {
     "name": "stderr",
     "output_type": "stream",
     "text": [
      "/home/cedric/Documentos/programacion/university/Bot-DP/assistant_notebook/.venv/lib/python3.12/site-packages/tqdm/auto.py:21: TqdmWarning: IProgress not found. Please update jupyter and ipywidgets. See https://ipywidgets.readthedocs.io/en/stable/user_install.html\n",
      "  from .autonotebook import tqdm as notebook_tqdm\n",
      "Device set to use cpu\n",
      "Device set to use cpu\n"
     ]
    }
   ],
   "source": [
    "from transformers import pipeline\n",
    "\n",
    "classifier = pipeline(\n",
    "   'zero-shot-classification',\n",
    "    model=\"facebook/bart-large-mnli\",\n",
    ")"
   ]
  },
  {
   "cell_type": "code",
   "execution_count": 5,
   "id": "8d0839ee",
   "metadata": {},
   "outputs": [
    {
     "name": "stdout",
     "output_type": "stream",
     "text": [
      "clima\n",
      "noticias\n",
      "noticias\n",
      "dolar\n",
      "dolar\n",
      "{'sequence': 'hola que sabes?', 'labels': ['clima', 'noticias', 'uf', 'saludo', 'dolar'], 'scores': [0.30700528621673584, 0.23928457498550415, 0.22170601785182953, 0.1908983588218689, 0.04110582917928696]}\n",
      "{'sequence': 'hola que sabes?', 'labels': ['clima', 'noticias', 'uf', 'saludo', 'dolar'], 'scores': [0.30700528621673584, 0.23928457498550415, 0.22170601785182953, 0.1908983588218689, 0.04110582917928696]}\n"
     ]
    }
   ],
   "source": [
    "labels = ['clima', 'dolar', 'uf', 'noticias', 'saludo' ] \n",
    "result = classifier('Que clima hace hoy en Santiago?', candidate_labels=labels) \n",
    "print(result['labels'][0]) \n",
    "result2 = classifier('Que hay de nuevo en Santiago?', candidate_labels=labels)\n",
    "print(result2['labels'][0])\n",
    "result3 = classifier('El dolar subio hoy', candidate_labels=labels)\n",
    "print(result3['labels'][0])\n",
    "result4 = classifier('hola que sabes?', candidate_labels=labels)\n",
    "print(result4)"
   ]
  },
  {
   "cell_type": "markdown",
   "id": "630c58e3",
   "metadata": {},
   "source": [
    "## Query Classifier Function\n",
    "\n",
    "Creating a reusable function to classify user queries "
   ]
  },
  {
   "cell_type": "code",
   "execution_count": 10,
   "id": "bfe818cc",
   "metadata": {},
   "outputs": [],
   "source": [
    "def classify_query(query, threshold=0.4):\n",
    "    \"\"\"\n",
    "    Classifies user query into one of several categories using zero-shot classification.\n",
    "    \n",
    "    Args:\n",
    "        query (str): The user's input query\n",
    "        threshold (float): Confidence threshold to accept classification\n",
    "        \n",
    "    Returns:\n",
    "        str: The category of the query (clima, dolar, uf, noticias, saludo, other)\n",
    "    \"\"\"\n",
    "    categories = ['clima', 'dolar', 'uf', 'noticias', 'saludo']\n",
    "    result = classifier(query, candidate_labels=categories)\n",
    "    \n",
    "    # Get the highest scoring category and its score\n",
    "    top_category = result['labels'][0]\n",
    "    top_score = result['scores'][0]\n",
    "    \n",
    "    print(f\"Classified '{query}' as {top_category} with confidence {top_score:.2f}\")\n",
    "    \n",
    "    if top_score >= threshold:\n",
    "        return top_category\n",
    "    else:\n",
    "        return \"other\"  # Default category if confidence is too low"
   ]
  },
  {
   "cell_type": "code",
   "execution_count": 11,
   "id": "b1343926",
   "metadata": {},
   "outputs": [
    {
     "name": "stdout",
     "output_type": "stream",
     "text": [
      "Classified '¿Qué temperatura hace en Madrid?' as clima with confidence 0.48\n",
      "Final category: clima\n",
      "\n",
      "Classified '¿Cuál es el valor del dólar hoy?' as dolar with confidence 0.89\n",
      "Final category: dolar\n",
      "\n",
      "Classified '¿Cuál es el valor del dólar hoy?' as dolar with confidence 0.89\n",
      "Final category: dolar\n",
      "\n",
      "Classified 'Dame las últimas noticias' as noticias with confidence 0.87\n",
      "Final category: noticias\n",
      "\n",
      "Classified 'Dame las últimas noticias' as noticias with confidence 0.87\n",
      "Final category: noticias\n",
      "\n",
      "Classified 'Hola, buenos días' as saludo with confidence 0.59\n",
      "Final category: saludo\n",
      "\n",
      "Classified 'Hola, buenos días' as saludo with confidence 0.59\n",
      "Final category: saludo\n",
      "\n",
      "Classified '¿Cuánto vale la UF actualmente?' as uf with confidence 0.72\n",
      "Final category: uf\n",
      "\n",
      "Classified '¿Cuánto vale la UF actualmente?' as uf with confidence 0.72\n",
      "Final category: uf\n",
      "\n",
      "Classified '¿Cuál es la capital de Francia?' as uf with confidence 0.40\n",
      "Final category: other\n",
      "\n",
      "Classified '¿Cuál es la capital de Francia?' as uf with confidence 0.40\n",
      "Final category: other\n",
      "\n"
     ]
    }
   ],
   "source": [
    "# Test examples\n",
    "test_queries = [\n",
    "    \"¿Qué temperatura hace en Madrid?\",\n",
    "    \"¿Cuál es el valor del dólar hoy?\",\n",
    "    \"Dame las últimas noticias\",\n",
    "    \"Hola, buenos días\",\n",
    "    \"¿Cuánto vale la UF actualmente?\",\n",
    "    \"¿Cuál es la capital de Francia?\"  # Should be classified as 'other'\n",
    "]\n",
    "\n",
    "for query in test_queries:\n",
    "    category = classify_query(query)\n",
    "    print(f\"Final category: {category}\\n\")"
   ]
  },
  {
   "cell_type": "markdown",
   "id": "4fc868ee",
   "metadata": {},
   "source": [
    "## Query Router Function\n",
    "\n",
    "Function to route queries to the appropriate agents"
   ]
  },
  {
   "cell_type": "code",
   "execution_count": 9,
   "id": "305d8e77",
   "metadata": {},
   "outputs": [],
   "source": [
    "def route_query(query):\n",
    "    \"\"\"\n",
    "    Routes a user query to the appropriate agent based on classification.\n",
    "    \n",
    "    Args:\n",
    "        query (str): The user's input query\n",
    "        \n",
    "    Returns:\n",
    "        str: The agent type to handle this query\n",
    "    \"\"\"\n",
    "    # This function would be imported from another notebook\n",
    "    category = classify_query(query)\n",
    "    \n",
    "    # Map categories to agent types\n",
    "    routing_map = {\n",
    "        \"clima\": \"weather\",\n",
    "        \"dolar\": \"financial\",\n",
    "        \"uf\": \"financial\",\n",
    "        \"noticias\": \"notice\",\n",
    "        \"saludo\": \"general\",\n",
    "        \"other\": \"general\"\n",
    "    }\n",
    "    \n",
    "    return routing_map.get(category, \"general\")"
   ]
  }
 ],
 "metadata": {
  "kernelspec": {
   "display_name": ".venv",
   "language": "python",
   "name": "python3"
  },
  "language_info": {
   "codemirror_mode": {
    "name": "ipython",
    "version": 3
   },
   "file_extension": ".py",
   "mimetype": "text/x-python",
   "name": "python",
   "nbconvert_exporter": "python",
   "pygments_lexer": "ipython3",
   "version": "3.12.3"
  }
 },
 "nbformat": 4,
 "nbformat_minor": 5
}
