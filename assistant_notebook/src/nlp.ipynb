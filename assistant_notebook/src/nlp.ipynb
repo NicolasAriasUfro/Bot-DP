{
 "cells": [
  {
   "cell_type": "code",
   "execution_count": 4,
   "id": "8a44de33",
   "metadata": {},
   "outputs": [
    {
     "name": "stderr",
     "output_type": "stream",
     "text": [
      "Device set to use cpu\n"
     ]
    }
   ],
   "source": [
    "from transformers import pipeline\n",
    "\n",
    "classifier = pipeline(\n",
    "   'zero-shot-classification',\n",
    "    model=\"valhalla/distilbart-mnli-12-3\",\n",
    ")"
   ]
  },
  {
   "cell_type": "code",
   "execution_count": 10,
   "id": "8d0839ee",
   "metadata": {},
   "outputs": [
    {
     "name": "stdout",
     "output_type": "stream",
     "text": [
      "clima\n",
      "noticias\n",
      "dolar\n"
     ]
    }
   ],
   "source": [
    "labels = ['clima', 'dolar', 'uf', 'noticias',]\n",
    "result = classifier('Que clima hace hoy en Santiago?', candidate_labels=labels) \n",
    "print(result['labels'][0]) \n",
    "result2 = classifier('Que hay de nuevo en Santiago?', candidate_labels=labels)\n",
    "print(result2['labels'][0])\n",
    "result3 = classifier('El dolar subio hoy', candidate_labels=labels)\n",
    "print(result3['labels'][0]) "
   ]
  },
  {
   "cell_type": "code",
   "execution_count": null,
   "id": "bfe818cc",
   "metadata": {},
   "outputs": [],
   "source": []
  }
 ],
 "metadata": {
  "kernelspec": {
   "display_name": ".venv",
   "language": "python",
   "name": "python3"
  },
  "language_info": {
   "codemirror_mode": {
    "name": "ipython",
    "version": 3
   },
   "file_extension": ".py",
   "mimetype": "text/x-python",
   "name": "python",
   "nbconvert_exporter": "python",
   "pygments_lexer": "ipython3",
   "version": "3.12.3"
  }
 },
 "nbformat": 4,
 "nbformat_minor": 5
}
